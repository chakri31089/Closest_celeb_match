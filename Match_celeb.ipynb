{
 "cells": [
  {
   "cell_type": "code",
   "execution_count": 243,
   "id": "c3427f97",
   "metadata": {},
   "outputs": [],
   "source": [
    "import cv2\n",
    "import os\n",
    "import glob\n",
    "import numpy as np\n",
    "import time\n",
    "import torch\n",
    "from Facerec import Facerec\n",
    "from facenet_pytorch import MTCNN, InceptionResnetV1"
   ]
  },
  {
   "cell_type": "code",
   "execution_count": 265,
   "id": "a7c46020",
   "metadata": {},
   "outputs": [],
   "source": [
    "fr = Facerec()\n",
    "path=\"data\""
   ]
  },
  {
   "cell_type": "code",
   "execution_count": 305,
   "id": "2867a580",
   "metadata": {},
   "outputs": [],
   "source": [
    "vid=cv2.VideoCapture(\"C:\\\\Users\\\\kashy\\\\Downloads\\\\test1.mp4\")\n",
    "mtcnn=MTCNN()\n",
    "flag=-1\n",
    "t=time.time()\n",
    "while True:\n",
    "    \n",
    "    _,img=vid.read()\n",
    "    boxs=mtcnn.detect(img)\n",
    "    boxs=boxs[0]\n",
    "#     print(time.time()-t)\n",
    "    if time.time()-t > 2 and flag==-1:\n",
    "#         print(f\"called  {type(box)}\")\n",
    "        if type(boxs)!=type(None):\n",
    "            flag=1;\n",
    "            x,name,acc=fr.detect_known_faces(img)\n",
    "            \n",
    "    if type(boxs)!=type(None):\n",
    "        box=boxs[0]\n",
    "        box=int(box[0]),int(box[1]),int(box[2]),int(box[3])\n",
    "    if flag!=-1:\n",
    "        cpath=os.path.join(path,name[0]+\".jpg\")\n",
    "        cimg=cv2.imread(cpath)\n",
    "        b=mtcnn.detect(cimg)\n",
    "        b=b[0][0]\n",
    "        b=[int(b[0]),int(b[1]),int(b[2]),int(b[3])]\n",
    "        img1=cimg[b[1]-20:b[3]+20,b[0]:b[2]+20]\n",
    "        x=box[2]-box[0]\n",
    "        y=box[3]-box[1]\n",
    "        img1=cv2.resize(img1,(x,y))\n",
    "        s=np.shape(img1)\n",
    "        s1,s2=s[0],int((s[1]-20)/2)\n",
    "        img1=img1[0:s1,s2:s[1]]\n",
    "        img[box[1]:box[3],int((box[0]+box[2])/2):int((box[0]+box[2])/2)+np.shape(img1)[1]]=img1\n",
    "        cv2.putText(img,f\"{name[0]}\",(int((box[0]+box[2])/2)-20,box[3]+20),cv2.FONT_HERSHEY_SIMPLEX,1,(0,0,0),2,cv2.LINE_AA)\n",
    "    cv2.imshow(\"o\",img)\n",
    "    if cv2.waitKey(1)==27:\n",
    "        break\n",
    "vid.release();\n",
    "cv2.destroyAllWindows()    "
   ]
  },
  {
   "cell_type": "code",
   "execution_count": null,
   "id": "9ab73030",
   "metadata": {},
   "outputs": [],
   "source": []
  },
  {
   "cell_type": "code",
   "execution_count": null,
   "id": "dcdc6506",
   "metadata": {},
   "outputs": [],
   "source": []
  },
  {
   "cell_type": "code",
   "execution_count": null,
   "id": "3450fa91",
   "metadata": {},
   "outputs": [],
   "source": []
  }
 ],
 "metadata": {
  "kernelspec": {
   "display_name": "Python 3 (ipykernel)",
   "language": "python",
   "name": "python3"
  },
  "language_info": {
   "codemirror_mode": {
    "name": "ipython",
    "version": 3
   },
   "file_extension": ".py",
   "mimetype": "text/x-python",
   "name": "python",
   "nbconvert_exporter": "python",
   "pygments_lexer": "ipython3",
   "version": "3.9.12"
  }
 },
 "nbformat": 4,
 "nbformat_minor": 5
}
